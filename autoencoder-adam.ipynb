{
 "cells": [
  {
   "cell_type": "code",
   "execution_count": 1,
   "metadata": {
    "collapsed": true,
    "deletable": true,
    "editable": true
   },
   "outputs": [],
   "source": [
    "# Import dependecies\n",
    "import numpy as np\n",
    "import tensorflow as tf\n",
    "import matplotlib.pyplot as plt # for visualizing results\n",
    "%matplotlib inline"
   ]
  },
  {
   "cell_type": "code",
   "execution_count": 2,
   "metadata": {
    "collapsed": false,
    "deletable": true,
    "editable": true
   },
   "outputs": [
    {
     "name": "stdout",
     "output_type": "stream",
     "text": [
      "Successfully downloaded train-images-idx3-ubyte.gz 9912422 bytes.\n",
      "Extracting /tmp/data/train-images-idx3-ubyte.gz\n",
      "Successfully downloaded train-labels-idx1-ubyte.gz 28881 bytes.\n",
      "Extracting /tmp/data/train-labels-idx1-ubyte.gz\n",
      "Successfully downloaded t10k-images-idx3-ubyte.gz 1648877 bytes.\n",
      "Extracting /tmp/data/t10k-images-idx3-ubyte.gz\n",
      "Successfully downloaded t10k-labels-idx1-ubyte.gz 4542 bytes.\n",
      "Extracting /tmp/data/t10k-labels-idx1-ubyte.gz\n"
     ]
    }
   ],
   "source": [
    "# import data\n",
    "from tensorflow.examples.tutorials.mnist import input_data\n",
    "mnist = input_data.read_data_sets(\"/tmp/data/\", one_hot=True)"
   ]
  },
  {
   "cell_type": "code",
   "execution_count": 3,
   "metadata": {
    "collapsed": true,
    "deletable": true,
    "editable": true
   },
   "outputs": [],
   "source": [
    "# Image size\n",
    "n_pixels = 28*28\n",
    "\n",
    "X = tf.placeholder(tf.float32, shape=([None, n_pixels]))"
   ]
  },
  {
   "cell_type": "code",
   "execution_count": 4,
   "metadata": {
    "collapsed": true,
    "deletable": true,
    "editable": true
   },
   "outputs": [],
   "source": [
    "# Define Weight, Bias, and FC functions\n",
    "\n",
    "def weight_variables(shape, name):\n",
    "    # truncated means bounded\n",
    "    # stddev -> standars deviation\n",
    "    init = tf.truncated_normal(shape, stddev=0.1)\n",
    "    # return as variables\n",
    "    return tf.Variable(init, name=name)\n",
    "\n",
    "def bias_variables(shape, name):\n",
    "    # bias increases the flexibility of the model\n",
    "    init = tf.truncated_normal(shape, stddev=0.1)\n",
    "    return tf.Variable(init, name=name)\n",
    "\n",
    "def FC_layer(X, W, b):\n",
    "    return tf.matmul(X, W) + b    "
   ]
  },
  {
   "cell_type": "markdown",
   "metadata": {
    "deletable": true,
    "editable": true
   },
   "source": [
    "# Seperating the mean, standard deiviation, and randomness\n",
    "\n",
    "In the model, we have randomness (stochastic) build in the model. When backpropagating, we will be only doing in respect tothe mean and the standrd deiviation, because they are pre-determined value while randomness is not."
   ]
  },
  {
   "cell_type": "code",
   "execution_count": 5,
   "metadata": {
    "collapsed": true,
    "deletable": true,
    "editable": true
   },
   "outputs": [],
   "source": [
    "# Encoder\n",
    "\n",
    "# latent means to represent something that cannot be seen\n",
    "latent_dim = 20\n",
    "\n",
    "# number of neurons in the hidden layer\n",
    "n_neurons = 500\n",
    "\n",
    "# layer 1\n",
    "W_enc = weight_variables([n_pixels, n_neurons], \"W_enc\")\n",
    "b_enc = bias_variables([n_neurons], \"b_enc\")\n",
    "\n",
    "# tanh - activation function\n",
    "# sigmoid > 0 to 1\n",
    "# tanh > -1 to 1\n",
    "# When it comes to generative models, tanh is more efective in avoding\n",
    "# the fanashing gradient problem instead of sigmoids\n",
    "h_enc = tf.nn.tanh(FC_layer(X, W_enc, b_enc))\n",
    "\n",
    "# Layer 2\n",
    "\n",
    "# Mean output\n",
    "W_m = weight_variables([n_neurons, latent_dim], \"W_m\")\n",
    "b_m = bias_variables([latent_dim], \"b_m\")\n",
    "m = FC_layer(h_enc, W_m, b_m)\n",
    "\n",
    "# Standard Deviation\n",
    "W_logstd = weight_variables([n_neurons, latent_dim], \"W_logstd\")\n",
    "b_logstd = bias_variables([latent_dim], \"b_logstd\")\n",
    "logstd = FC_layer(h_enc, W_logstd, b_logstd)\n",
    "\n",
    "\n",
    "# Randomness\n",
    "# While the randomness is not affected by back propogation, it helps genrate th output z.\n",
    "# The great thing about noise, it adds randomness to the output without affecting\n",
    "# backpropagation.\n",
    "noise = tf.random_normal([1, latent_dim])\n",
    "\n",
    "# Wee will feed z into our decoder\n",
    "z = m + tf.multiply(noise, tf.exp(.5*logstd))"
   ]
  },
  {
   "cell_type": "code",
   "execution_count": 6,
   "metadata": {
    "collapsed": true,
    "deletable": true,
    "editable": true
   },
   "outputs": [],
   "source": [
    "# Decoder\n",
    "\n",
    "# layer 1\n",
    "W_dec = weight_variables([latent_dim, n_neurons], \"W_dec\")\n",
    "b_dec = bias_variables([n_neurons], \"b_dec\")\n",
    "h_dec = tf.nn.tanh(FC_layer(z, W_dec, b_dec))\n",
    "\n",
    "# layer 2\n",
    "# Since MNIST images consist of paramaters between 0s and 1a (white and black), we \n",
    "# will be using sigmoid activation.\n",
    "W_reconstruction = weight_variables([n_neurons, n_pixels], \"W_recontruction\")\n",
    "b_reconstruction = bias_variables([n_pixels], \"b_reconstruction\")\n",
    "reconstruction = tf.nn.sigmoid(FC_layer(h_dec, W_reconstruction, b_reconstruction))"
   ]
  },
  {
   "cell_type": "code",
   "execution_count": 11,
   "metadata": {
    "collapsed": true,
    "deletable": true,
    "editable": true
   },
   "outputs": [],
   "source": [
    "# Loss function\n",
    "\n",
    "# Here we call the loss function as variational lower bound.\n",
    "# In order compute the loss function, we need first to calculate \n",
    "# two components of the equation: log P (Bernouli distribution) \n",
    "# and D (KL divergence).\n",
    "\n",
    "# Bernouli Distribution lets us know how well did we compare the\n",
    "# generated distribution and the true data distribution.\n",
    "p_bernouli = tf.reduce_mean(X * tf.log(reconstruction + 1e-9) + (1 - X) * tf.log(1 - reconstruction + 1e-9), \n",
    "                            reduction_indices=1)\n",
    "\n",
    "# KL Divergence make sure that the distributions are clustered if they are similar.\n",
    "KL_d = -.5*tf.reduce_mean(1 + 2*logstd - tf.pow(m , 2) - tf.exp(2*logstd), reduction_indices=1)\n",
    "\n",
    "# Variaional lower bound\n",
    "vlb_loss = tf.reduce_mean(p_bernouli - KL_d)\n",
    "optimize = tf.train.AdamOptimizer().minimize(-vlb_loss)"
   ]
  },
  {
   "cell_type": "code",
   "execution_count": 12,
   "metadata": {
    "collapsed": true,
    "deletable": true,
    "editable": true
   },
   "outputs": [],
   "source": [
    "# Initialize all variables\n",
    "init = tf.global_variables_initializer()\n",
    "sess = tf.InteractiveSession()\n",
    "# start session\n",
    "sess.run(init)\n",
    "# saver\n",
    "saver = tf.train.Saver()"
   ]
  },
  {
   "cell_type": "code",
   "execution_count": 13,
   "metadata": {
    "collapsed": false,
    "deletable": true,
    "editable": true
   },
   "outputs": [
    {
     "name": "stdout",
     "output_type": "stream",
     "text": [
      "Iteration: 1, Loss: -4.900633811950684\n",
      "Iteration: 1001, Loss: -0.29848581552505493\n",
      "Iteration: 2001, Loss: -0.2727055251598358\n",
      "Iteration: 3001, Loss: -0.2635572552680969\n",
      "Iteration: 4001, Loss: -0.26691898703575134\n",
      "Iteration: 5001, Loss: -0.26670244336128235\n",
      "Iteration: 6001, Loss: -0.26485422253608704\n",
      "Iteration: 7001, Loss: -0.26354581117630005\n",
      "Iteration: 8001, Loss: -0.2675313949584961\n",
      "Iteration: 9001, Loss: -0.26593562960624695\n",
      "Iteration: 10001, Loss: -0.26812970638275146\n",
      "Iteration: 11001, Loss: -0.2579672336578369\n",
      "Iteration: 12001, Loss: -0.2744687497615814\n",
      "Iteration: 13001, Loss: -0.26313939690589905\n",
      "Iteration: 14001, Loss: -0.2621673047542572\n",
      "Iteration: 15001, Loss: -0.2665799856185913\n",
      "Iteration: 16001, Loss: -0.2651210427284241\n",
      "Iteration: 17001, Loss: -0.2600204050540924\n",
      "Iteration: 18001, Loss: -0.26587963104248047\n",
      "Iteration: 19001, Loss: -0.25954151153564453\n",
      "Iteration: 20001, Loss: -0.26450520753860474\n",
      "Iteration: 21001, Loss: -0.26531073451042175\n",
      "Iteration: 22001, Loss: -0.264735609292984\n",
      "Iteration: 23001, Loss: -0.2618236839771271\n",
      "Iteration: 24001, Loss: -0.2591114044189453\n",
      "Iteration: 25001, Loss: -0.2602006494998932\n",
      "Iteration: 26001, Loss: -0.26641881465911865\n",
      "Iteration: 27001, Loss: -0.2688583433628082\n",
      "Iteration: 28001, Loss: -0.26328831911087036\n",
      "Iteration: 29001, Loss: -0.26051199436187744\n",
      "Iteration: 30001, Loss: -0.25982552766799927\n",
      "Iteration: 31001, Loss: -0.2596619129180908\n",
      "Iteration: 32001, Loss: -0.2549384534358978\n",
      "Iteration: 33001, Loss: -0.26737314462661743\n",
      "Iteration: 34001, Loss: -0.2453574240207672\n",
      "Iteration: 35001, Loss: -0.2565152645111084\n",
      "Iteration: 36001, Loss: -0.26153993606567383\n",
      "Iteration: 37001, Loss: -0.27166086435317993\n",
      "Iteration: 38001, Loss: -0.25836440920829773\n",
      "Iteration: 39001, Loss: -0.2680254280567169\n",
      "Iteration: 40001, Loss: -0.26548051834106445\n",
      "Iteration: 41001, Loss: -0.2653578817844391\n",
      "Iteration: 42001, Loss: -0.2616727352142334\n",
      "Iteration: 43001, Loss: -0.2632006108760834\n",
      "Iteration: 44001, Loss: -0.26170143485069275\n",
      "Iteration: 45001, Loss: -0.2639912962913513\n",
      "Iteration: 46001, Loss: -0.25982218980789185\n",
      "Iteration: 47001, Loss: -0.25500258803367615\n",
      "Iteration: 48001, Loss: -0.263548344373703\n",
      "Iteration: 49001, Loss: -0.2616161108016968\n",
      "Iteration: 50001, Loss: -0.2626298666000366\n",
      "Iteration: 51001, Loss: -0.2653360962867737\n",
      "Iteration: 52001, Loss: -0.2618415057659149\n",
      "Iteration: 53001, Loss: -0.2622032165527344\n",
      "Iteration: 54001, Loss: -0.2709167003631592\n",
      "Iteration: 55001, Loss: -0.2659706473350525\n",
      "Iteration: 56001, Loss: -0.26577097177505493\n",
      "Iteration: 57001, Loss: -0.25820645689964294\n",
      "Iteration: 58001, Loss: -0.26178038120269775\n",
      "Iteration: 59001, Loss: -0.25832346081733704\n",
      "Iteration: 60001, Loss: -0.2629963159561157\n",
      "Iteration: 61001, Loss: -0.2639334201812744\n",
      "Iteration: 62001, Loss: -0.2683026194572449\n",
      "Iteration: 63001, Loss: -0.2628038227558136\n",
      "Iteration: 64001, Loss: -0.2638876736164093\n",
      "Iteration: 65001, Loss: -0.2664318084716797\n",
      "Iteration: 66001, Loss: -0.2671227753162384\n",
      "Iteration: 67001, Loss: -0.2664136290550232\n",
      "Iteration: 68001, Loss: -0.26482903957366943\n",
      "Iteration: 69001, Loss: -0.26627787947654724\n",
      "Iteration: 70001, Loss: -0.278984397649765\n",
      "Iteration: 71001, Loss: -0.26098209619522095\n",
      "Iteration: 72001, Loss: -0.26470184326171875\n",
      "Iteration: 73001, Loss: -0.2661826014518738\n",
      "Iteration: 74001, Loss: -0.2668667733669281\n",
      "Iteration: 75001, Loss: -0.25775307416915894\n",
      "Iteration: 76001, Loss: -0.26063475012779236\n",
      "Iteration: 77001, Loss: -0.2673014998435974\n",
      "Iteration: 78001, Loss: -0.2626739740371704\n",
      "Iteration: 79001, Loss: -0.2565481960773468\n",
      "Iteration: 80001, Loss: -0.26344677805900574\n",
      "Iteration: 81001, Loss: -0.26223263144493103\n",
      "Iteration: 82001, Loss: -0.2645342946052551\n",
      "Iteration: 83001, Loss: -0.2671061158180237\n",
      "Iteration: 84001, Loss: -0.26251518726348877\n",
      "Iteration: 85001, Loss: -0.2597028315067291\n",
      "Iteration: 86001, Loss: -0.2628878951072693\n",
      "Iteration: 87001, Loss: -0.258995920419693\n",
      "Iteration: 88001, Loss: -0.26707515120506287\n",
      "Iteration: 89001, Loss: -0.2661442756652832\n",
      "Iteration: 90001, Loss: -0.26416006684303284\n",
      "Iteration: 91001, Loss: -0.25947871804237366\n",
      "Iteration: 92001, Loss: -0.26759016513824463\n",
      "Iteration: 93001, Loss: -0.2568388283252716\n",
      "Iteration: 94001, Loss: -0.25922727584838867\n",
      "Iteration: 95001, Loss: -0.26416754722595215\n",
      "Iteration: 96001, Loss: -0.35668718814849854\n",
      "Iteration: 97001, Loss: -0.2634955644607544\n",
      "Iteration: 98001, Loss: -0.26262030005455017\n",
      "Iteration: 99001, Loss: -0.25971555709838867\n",
      "Iteration: 100001, Loss: -0.26466724276542664\n",
      "Iteration: 101001, Loss: -0.26460179686546326\n"
     ]
    },
    {
     "ename": "KeyboardInterrupt",
     "evalue": "",
     "output_type": "error",
     "traceback": [
      "\u001b[0;31m---------------------------------------------------------------------------\u001b[0m",
      "\u001b[0;31mKeyboardInterrupt\u001b[0m                         Traceback (most recent call last)",
      "\u001b[0;32m<ipython-input-13-1835edf5325d>\u001b[0m in \u001b[0;36m<module>\u001b[0;34m()\u001b[0m\n\u001b[1;32m     10\u001b[0m     \u001b[0mx_batch\u001b[0m \u001b[0;34m=\u001b[0m \u001b[0mnp\u001b[0m\u001b[0;34m.\u001b[0m\u001b[0mround\u001b[0m\u001b[0;34m(\u001b[0m\u001b[0mmnist\u001b[0m\u001b[0;34m.\u001b[0m\u001b[0mtrain\u001b[0m\u001b[0;34m.\u001b[0m\u001b[0mnext_batch\u001b[0m\u001b[0;34m(\u001b[0m\u001b[0;36m200\u001b[0m\u001b[0;34m)\u001b[0m\u001b[0;34m[\u001b[0m\u001b[0;36m0\u001b[0m\u001b[0;34m]\u001b[0m\u001b[0;34m)\u001b[0m\u001b[0;34m\u001b[0m\u001b[0m\n\u001b[1;32m     11\u001b[0m     \u001b[0;31m# run optimizer\u001b[0m\u001b[0;34m\u001b[0m\u001b[0;34m\u001b[0m\u001b[0m\n\u001b[0;32m---> 12\u001b[0;31m     \u001b[0msess\u001b[0m\u001b[0;34m.\u001b[0m\u001b[0mrun\u001b[0m\u001b[0;34m(\u001b[0m\u001b[0moptimize\u001b[0m\u001b[0;34m,\u001b[0m \u001b[0mfeed_dict\u001b[0m\u001b[0;34m=\u001b[0m\u001b[0;34m{\u001b[0m\u001b[0mX\u001b[0m\u001b[0;34m:\u001b[0m \u001b[0mx_batch\u001b[0m\u001b[0;34m}\u001b[0m\u001b[0;34m)\u001b[0m\u001b[0;34m\u001b[0m\u001b[0m\n\u001b[0m\u001b[1;32m     13\u001b[0m     \u001b[0;32mif\u001b[0m \u001b[0;34m(\u001b[0m\u001b[0mi\u001b[0m \u001b[0;34m%\u001b[0m \u001b[0mintervals\u001b[0m \u001b[0;34m==\u001b[0m \u001b[0;36m0\u001b[0m\u001b[0;34m)\u001b[0m\u001b[0;34m:\u001b[0m\u001b[0;34m\u001b[0m\u001b[0m\n\u001b[1;32m     14\u001b[0m         \u001b[0mvlb_eval\u001b[0m \u001b[0;34m=\u001b[0m \u001b[0mvlb_loss\u001b[0m\u001b[0;34m.\u001b[0m\u001b[0meval\u001b[0m\u001b[0;34m(\u001b[0m\u001b[0mfeed_dict\u001b[0m\u001b[0;34m=\u001b[0m\u001b[0;34m{\u001b[0m\u001b[0mX\u001b[0m\u001b[0;34m:\u001b[0m \u001b[0mx_batch\u001b[0m\u001b[0;34m}\u001b[0m\u001b[0;34m)\u001b[0m\u001b[0;34m\u001b[0m\u001b[0m\n",
      "\u001b[0;32m/usr/local/lib/python3.5/site-packages/tensorflow/python/client/session.py\u001b[0m in \u001b[0;36mrun\u001b[0;34m(self, fetches, feed_dict, options, run_metadata)\u001b[0m\n\u001b[1;32m    765\u001b[0m     \u001b[0;32mtry\u001b[0m\u001b[0;34m:\u001b[0m\u001b[0;34m\u001b[0m\u001b[0m\n\u001b[1;32m    766\u001b[0m       result = self._run(None, fetches, feed_dict, options_ptr,\n\u001b[0;32m--> 767\u001b[0;31m                          run_metadata_ptr)\n\u001b[0m\u001b[1;32m    768\u001b[0m       \u001b[0;32mif\u001b[0m \u001b[0mrun_metadata\u001b[0m\u001b[0;34m:\u001b[0m\u001b[0;34m\u001b[0m\u001b[0m\n\u001b[1;32m    769\u001b[0m         \u001b[0mproto_data\u001b[0m \u001b[0;34m=\u001b[0m \u001b[0mtf_session\u001b[0m\u001b[0;34m.\u001b[0m\u001b[0mTF_GetBuffer\u001b[0m\u001b[0;34m(\u001b[0m\u001b[0mrun_metadata_ptr\u001b[0m\u001b[0;34m)\u001b[0m\u001b[0;34m\u001b[0m\u001b[0m\n",
      "\u001b[0;32m/usr/local/lib/python3.5/site-packages/tensorflow/python/client/session.py\u001b[0m in \u001b[0;36m_run\u001b[0;34m(self, handle, fetches, feed_dict, options, run_metadata)\u001b[0m\n\u001b[1;32m    963\u001b[0m     \u001b[0;32mif\u001b[0m \u001b[0mfinal_fetches\u001b[0m \u001b[0;32mor\u001b[0m \u001b[0mfinal_targets\u001b[0m\u001b[0;34m:\u001b[0m\u001b[0;34m\u001b[0m\u001b[0m\n\u001b[1;32m    964\u001b[0m       results = self._do_run(handle, final_targets, final_fetches,\n\u001b[0;32m--> 965\u001b[0;31m                              feed_dict_string, options, run_metadata)\n\u001b[0m\u001b[1;32m    966\u001b[0m     \u001b[0;32melse\u001b[0m\u001b[0;34m:\u001b[0m\u001b[0;34m\u001b[0m\u001b[0m\n\u001b[1;32m    967\u001b[0m       \u001b[0mresults\u001b[0m \u001b[0;34m=\u001b[0m \u001b[0;34m[\u001b[0m\u001b[0;34m]\u001b[0m\u001b[0;34m\u001b[0m\u001b[0m\n",
      "\u001b[0;32m/usr/local/lib/python3.5/site-packages/tensorflow/python/client/session.py\u001b[0m in \u001b[0;36m_do_run\u001b[0;34m(self, handle, target_list, fetch_list, feed_dict, options, run_metadata)\u001b[0m\n\u001b[1;32m   1013\u001b[0m     \u001b[0;32mif\u001b[0m \u001b[0mhandle\u001b[0m \u001b[0;32mis\u001b[0m \u001b[0;32mNone\u001b[0m\u001b[0;34m:\u001b[0m\u001b[0;34m\u001b[0m\u001b[0m\n\u001b[1;32m   1014\u001b[0m       return self._do_call(_run_fn, self._session, feed_dict, fetch_list,\n\u001b[0;32m-> 1015\u001b[0;31m                            target_list, options, run_metadata)\n\u001b[0m\u001b[1;32m   1016\u001b[0m     \u001b[0;32melse\u001b[0m\u001b[0;34m:\u001b[0m\u001b[0;34m\u001b[0m\u001b[0m\n\u001b[1;32m   1017\u001b[0m       return self._do_call(_prun_fn, self._session, handle, feed_dict,\n",
      "\u001b[0;32m/usr/local/lib/python3.5/site-packages/tensorflow/python/client/session.py\u001b[0m in \u001b[0;36m_do_call\u001b[0;34m(self, fn, *args)\u001b[0m\n\u001b[1;32m   1020\u001b[0m   \u001b[0;32mdef\u001b[0m \u001b[0m_do_call\u001b[0m\u001b[0;34m(\u001b[0m\u001b[0mself\u001b[0m\u001b[0;34m,\u001b[0m \u001b[0mfn\u001b[0m\u001b[0;34m,\u001b[0m \u001b[0;34m*\u001b[0m\u001b[0margs\u001b[0m\u001b[0;34m)\u001b[0m\u001b[0;34m:\u001b[0m\u001b[0;34m\u001b[0m\u001b[0m\n\u001b[1;32m   1021\u001b[0m     \u001b[0;32mtry\u001b[0m\u001b[0;34m:\u001b[0m\u001b[0;34m\u001b[0m\u001b[0m\n\u001b[0;32m-> 1022\u001b[0;31m       \u001b[0;32mreturn\u001b[0m \u001b[0mfn\u001b[0m\u001b[0;34m(\u001b[0m\u001b[0;34m*\u001b[0m\u001b[0margs\u001b[0m\u001b[0;34m)\u001b[0m\u001b[0;34m\u001b[0m\u001b[0m\n\u001b[0m\u001b[1;32m   1023\u001b[0m     \u001b[0;32mexcept\u001b[0m \u001b[0merrors\u001b[0m\u001b[0;34m.\u001b[0m\u001b[0mOpError\u001b[0m \u001b[0;32mas\u001b[0m \u001b[0me\u001b[0m\u001b[0;34m:\u001b[0m\u001b[0;34m\u001b[0m\u001b[0m\n\u001b[1;32m   1024\u001b[0m       \u001b[0mmessage\u001b[0m \u001b[0;34m=\u001b[0m \u001b[0mcompat\u001b[0m\u001b[0;34m.\u001b[0m\u001b[0mas_text\u001b[0m\u001b[0;34m(\u001b[0m\u001b[0me\u001b[0m\u001b[0;34m.\u001b[0m\u001b[0mmessage\u001b[0m\u001b[0;34m)\u001b[0m\u001b[0;34m\u001b[0m\u001b[0m\n",
      "\u001b[0;32m/usr/local/lib/python3.5/site-packages/tensorflow/python/client/session.py\u001b[0m in \u001b[0;36m_run_fn\u001b[0;34m(session, feed_dict, fetch_list, target_list, options, run_metadata)\u001b[0m\n\u001b[1;32m   1002\u001b[0m         return tf_session.TF_Run(session, options,\n\u001b[1;32m   1003\u001b[0m                                  \u001b[0mfeed_dict\u001b[0m\u001b[0;34m,\u001b[0m \u001b[0mfetch_list\u001b[0m\u001b[0;34m,\u001b[0m \u001b[0mtarget_list\u001b[0m\u001b[0;34m,\u001b[0m\u001b[0;34m\u001b[0m\u001b[0m\n\u001b[0;32m-> 1004\u001b[0;31m                                  status, run_metadata)\n\u001b[0m\u001b[1;32m   1005\u001b[0m \u001b[0;34m\u001b[0m\u001b[0m\n\u001b[1;32m   1006\u001b[0m     \u001b[0;32mdef\u001b[0m \u001b[0m_prun_fn\u001b[0m\u001b[0;34m(\u001b[0m\u001b[0msession\u001b[0m\u001b[0;34m,\u001b[0m \u001b[0mhandle\u001b[0m\u001b[0;34m,\u001b[0m \u001b[0mfeed_dict\u001b[0m\u001b[0;34m,\u001b[0m \u001b[0mfetch_list\u001b[0m\u001b[0;34m)\u001b[0m\u001b[0;34m:\u001b[0m\u001b[0;34m\u001b[0m\u001b[0m\n",
      "\u001b[0;31mKeyboardInterrupt\u001b[0m: "
     ]
    }
   ],
   "source": [
    "import time # for training time\n",
    "\n",
    "iters = 1000000\n",
    "intervals = 1000\n",
    "vlb_array = []\n",
    "p_bernouli_array = []\n",
    "KL_d_array = []\n",
    "iters_array = [i*intervals for i in range(int(iters/intervals))]\n",
    "for i in range(iters):\n",
    "    x_batch = np.round(mnist.train.next_batch(200)[0])\n",
    "    # run optimizer \n",
    "    sess.run(optimize, feed_dict={X: x_batch})\n",
    "    if (i % intervals == 0):\n",
    "        vlb_eval = vlb_loss.eval(feed_dict={X: x_batch})\n",
    "        print(\"Iteration: {}, Loss: {}\".format((i+1), vlb_eval))\n",
    "        vlb_array.append(vlb_eval)\n",
    "        p_bernouli_array.append(np.mean(p_bernouli.eval(feed_dict={X: x_batch})))\n",
    "        KL_d_array.append(np.mean(KL_d.eval(feed_dict={X: x_batch})))"
   ]
  },
  {
   "cell_type": "code",
   "execution_count": 14,
   "metadata": {
    "collapsed": false,
    "deletable": true,
    "editable": true
   },
   "outputs": [
    {
     "data": {
      "image/png": "[encoded data removed]",
      "text/plain": [
       "<matplotlib.figure.Figure at 0x7fccbcb5f438>"
      ]
     },
     "metadata": {},
     "output_type": "display_data"
    },
    {
     "data": {
      "image/png": "[encoded data removed]",
      "text/plain": [
       "<matplotlib.figure.Figure at 0x7fccb38e7668>"
      ]
     },
     "metadata": {},
     "output_type": "display_data"
    },
    {
     "data": {
      "image/png": "[encoded data removed]",
      "text/plain": [
       "<matplotlib.figure.Figure at 0x7fccb382bc18>"
      ]
     },
     "metadata": {},
     "output_type": "display_data"
    },
    {
     "data": {
      "image/png": "[encoded data removed]",
      "text/plain": [
       "<matplotlib.figure.Figure at 0x7fccb37eab70>"
      ]
     },
     "metadata": {},
     "output_type": "display_data"
    },
    {
     "data": {
      "image/png": "[encoded data removed]",
      "text/plain": [
       "<matplotlib.figure.Figure at 0x7fccb57ba240>"
      ]
     },
     "metadata": {},
     "output_type": "display_data"
    },
    {
     "data": {
      "image/png": "[encoded data removed]",
      "text/plain": [
       "<matplotlib.figure.Figure at 0x7fccb38ecc50>"
      ]
     },
     "metadata": {},
     "output_type": "display_data"
    },
    {
     "data": {
      "image/png": "[encoded data removed]",
      "text/plain": [
       "<matplotlib.figure.Figure at 0x7fccb58e3a58>"
      ]
     },
     "metadata": {},
     "output_type": "display_data"
    },
    {
     "data": {
      "image/png": "[encoded data removed]",
      "text/plain": [
       "<matplotlib.figure.Figure at 0x7fccb57ef080>"
      ]
     },
     "metadata": {},
     "output_type": "display_data"
    },
    {
     "data": {
      "image/png": "[encoded data removed]",
      "text/plain": [
       "<matplotlib.figure.Figure at 0x7fccaebb4b38>"
      ]
     },
     "metadata": {},
     "output_type": "display_data"
    },
    {
     "data": {
      "image/png": "[encoded data removed]",
      "text/plain": [
       "<matplotlib.figure.Figure at 0x7fccaead6a90>"
      ]
     },
     "metadata": {},
     "output_type": "display_data"
    }
   ],
   "source": [
    "# Time to see the result\n",
    "%matplotlib inline\n",
    "num_show = 10\n",
    "image_indices = np.random.randint(0, 200, num_show)\n",
    "for show in range(num_show):\n",
    "    x = np.reshape(mnist.test.images[image_indices[show]], (1,n_pixels))\n",
    "    plt.figure()\n",
    "    x_image = np.reshape(x, (28,28))\n",
    "    plt.subplot(121)\n",
    "    plt.imshow(x_image)\n",
    "    x_reconstruction = reconstruction.eval(feed_dict={X: x})\n",
    "    x_reconstruction_image = (np.reshape(x_reconstruction, (28,28)))\n",
    "    plt.subplot(122)\n",
    "    plt.imshow(x_reconstruction_image)"
   ]
  },
  {
   "cell_type": "code",
   "execution_count": null,
   "metadata": {
    "collapsed": true,
    "deletable": true,
    "editable": true
   },
   "outputs": [],
   "source": []
  }
 ],
 "metadata": {
  "kernelspec": {
   "display_name": "Python 3",
   "language": "python",
   "name": "python3"
  },
  "language_info": {
   "codemirror_mode": {
    "name": "ipython",
    "version": 3
   },
   "file_extension": ".py",
   "mimetype": "text/x-python",
   "name": "python",
   "nbconvert_exporter": "python",
   "pygments_lexer": "ipython3",
   "version": "3.5.3"
  }
 },
 "nbformat": 4,
 "nbformat_minor": 2
}
